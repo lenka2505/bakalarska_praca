{
  "nbformat": 4,
  "nbformat_minor": 0,
  "metadata": {
    "colab": {
      "provenance": []
    },
    "kernelspec": {
      "name": "python3",
      "display_name": "Python 3"
    },
    "language_info": {
      "name": "python"
    }
  },
  "cells": [
    {
      "cell_type": "code",
      "execution_count": 1,
      "metadata": {
        "colab": {
          "base_uri": "https://localhost:8080/"
        },
        "id": "4oDnOY0tk0AN",
        "outputId": "e8524e88-645c-4db8-cf5d-2a0b11149e4f"
      },
      "outputs": [
        {
          "output_type": "stream",
          "name": "stdout",
          "text": [
            "Collecting ucimlrepo\n",
            "  Downloading ucimlrepo-0.0.7-py3-none-any.whl.metadata (5.5 kB)\n",
            "Requirement already satisfied: pandas>=1.0.0 in /usr/local/lib/python3.11/dist-packages (from ucimlrepo) (2.2.2)\n",
            "Requirement already satisfied: certifi>=2020.12.5 in /usr/local/lib/python3.11/dist-packages (from ucimlrepo) (2025.4.26)\n",
            "Requirement already satisfied: numpy>=1.23.2 in /usr/local/lib/python3.11/dist-packages (from pandas>=1.0.0->ucimlrepo) (2.0.2)\n",
            "Requirement already satisfied: python-dateutil>=2.8.2 in /usr/local/lib/python3.11/dist-packages (from pandas>=1.0.0->ucimlrepo) (2.9.0.post0)\n",
            "Requirement already satisfied: pytz>=2020.1 in /usr/local/lib/python3.11/dist-packages (from pandas>=1.0.0->ucimlrepo) (2025.2)\n",
            "Requirement already satisfied: tzdata>=2022.7 in /usr/local/lib/python3.11/dist-packages (from pandas>=1.0.0->ucimlrepo) (2025.2)\n",
            "Requirement already satisfied: six>=1.5 in /usr/local/lib/python3.11/dist-packages (from python-dateutil>=2.8.2->pandas>=1.0.0->ucimlrepo) (1.17.0)\n",
            "Downloading ucimlrepo-0.0.7-py3-none-any.whl (8.0 kB)\n",
            "Installing collected packages: ucimlrepo\n",
            "Successfully installed ucimlrepo-0.0.7\n"
          ]
        }
      ],
      "source": [
        "pip install ucimlrepo"
      ]
    },
    {
      "cell_type": "code",
      "source": [
        "from ucimlrepo import list_available_datasets\n",
        "print(list_available_datasets())"
      ],
      "metadata": {
        "id": "ZlvGIPMcZxCO",
        "colab": {
          "base_uri": "https://localhost:8080/"
        },
        "outputId": "b75b63c3-a473-4961-c113-fa4d0f578ceb"
      },
      "execution_count": 2,
      "outputs": [
        {
          "output_type": "stream",
          "name": "stdout",
          "text": [
            "-------------------------------------\n",
            "The following datasets are available:\n",
            "-------------------------------------\n",
            "Dataset Name                                                                            ID    \n",
            "------------                                                                            --    \n",
            "Abalone                                                                                 1     \n",
            "Adult                                                                                   2     \n",
            "Annealing                                                                               3     \n",
            "Audiology (Standardized)                                                                8     \n",
            "Auto MPG                                                                                9     \n",
            "Automobile                                                                              10    \n",
            "Balance Scale                                                                           12    \n",
            "Balloons                                                                                13    \n",
            "Breast Cancer                                                                           14    \n",
            "Breast Cancer Wisconsin (Original)                                                      15    \n",
            "Breast Cancer Wisconsin (Prognostic)                                                    16    \n",
            "Breast Cancer Wisconsin (Diagnostic)                                                    17    \n",
            "Pittsburgh Bridges                                                                      18    \n",
            "Car Evaluation                                                                          19    \n",
            "Census Income                                                                           20    \n",
            "Chess (King-Rook vs. King-Pawn)                                                         22    \n",
            "Chess (King-Rook vs. King)                                                              23    \n",
            "Connect-4                                                                               26    \n",
            "Credit Approval                                                                         27    \n",
            "Japanese Credit Screening                                                               28    \n",
            "Computer Hardware                                                                       29    \n",
            "Contraceptive Method Choice                                                             30    \n",
            "Covertype                                                                               31    \n",
            "Cylinder Bands                                                                          32    \n",
            "Dermatology                                                                             33    \n",
            "Echocardiogram                                                                          38    \n",
            "Ecoli                                                                                   39    \n",
            "Flags                                                                                   40    \n",
            "Glass Identification                                                                    42    \n",
            "Haberman's Survival                                                                     43    \n",
            "Hayes-Roth                                                                              44    \n",
            "Heart Disease                                                                           45    \n",
            "Hepatitis                                                                               46    \n",
            "Horse Colic                                                                             47    \n",
            "Image Segmentation                                                                      50    \n",
            "Ionosphere                                                                              52    \n",
            "Iris                                                                                    53    \n",
            "ISOLET                                                                                  54    \n",
            "Lenses                                                                                  58    \n",
            "Letter Recognition                                                                      59    \n",
            "Liver Disorders                                                                         60    \n",
            "Lung Cancer                                                                             62    \n",
            "Lymphography                                                                            63    \n",
            "Molecular Biology (Splice-junction Gene Sequences)                                      69    \n",
            "MONK's Problems                                                                         70    \n",
            "Mushroom                                                                                73    \n",
            "Musk (Version 1)                                                                        74    \n",
            "Musk (Version 2)                                                                        75    \n",
            "Nursery                                                                                 76    \n",
            "Page Blocks Classification                                                              78    \n",
            "Optical Recognition of Handwritten Digits                                               80    \n",
            "Pen-Based Recognition of Handwritten Digits                                             81    \n",
            "Post-Operative Patient                                                                  82    \n",
            "Primary Tumor                                                                           83    \n",
            "Servo                                                                                   87    \n",
            "Shuttle Landing Control                                                                 88    \n",
            "Solar Flare                                                                             89    \n",
            "Soybean (Large)                                                                         90    \n",
            "Soybean (Small)                                                                         91    \n",
            "Challenger USA Space Shuttle O-Ring                                                     92    \n",
            "Spambase                                                                                94    \n",
            "SPECT Heart                                                                             95    \n",
            "SPECTF Heart                                                                            96    \n",
            "Tic-Tac-Toe Endgame                                                                     101   \n",
            "Congressional Voting Records                                                            105   \n",
            "Waveform Database Generator (Version 1)                                                 107   \n",
            "Wine                                                                                    109   \n",
            "Yeast                                                                                   110   \n",
            "Zoo                                                                                     111   \n",
            "US Census Data (1990)                                                                   116   \n",
            "Census-Income (KDD)                                                                     117   \n",
            "El Nino                                                                                 122   \n",
            "Statlog (Australian Credit Approval)                                                    143   \n",
            "Statlog (German Credit Data)                                                            144   \n",
            "Statlog (Heart)                                                                         145   \n",
            "Statlog (Landsat Satellite)                                                             146   \n",
            "Statlog (Image Segmentation)                                                            147   \n",
            "Statlog (Shuttle)                                                                       148   \n",
            "Statlog (Vehicle Silhouettes)                                                           149   \n",
            "Connectionist Bench (Sonar, Mines vs. Rocks)                                            151   \n",
            "Cloud                                                                                   155   \n",
            "Poker Hand                                                                              158   \n",
            "MAGIC Gamma Telescope                                                                   159   \n",
            "Mammographic Mass                                                                       161   \n",
            "Forest Fires                                                                            162   \n",
            "Concrete Compressive Strength                                                           165   \n",
            "Ozone Level Detection                                                                   172   \n",
            "Parkinsons                                                                              174   \n",
            "Blood Transfusion Service Center                                                        176   \n",
            "Communities and Crime                                                                   183   \n",
            "Acute Inflammations                                                                     184   \n",
            "Wine Quality                                                                            186   \n",
            "Parkinsons Telemonitoring                                                               189   \n",
            "Cardiotocography                                                                        193   \n",
            "Steel Plates Faults                                                                     198   \n",
            "Communities and Crime Unnormalized                                                      211   \n",
            "Vertebral Column                                                                        212   \n",
            "Bank Marketing                                                                          222   \n",
            "ILPD (Indian Liver Patient Dataset)                                                     225   \n",
            "Skin Segmentation                                                                       229   \n",
            "Individual Household Electric Power Consumption                                         235   \n",
            "Energy Efficiency                                                                       242   \n",
            "Fertility                                                                               244   \n",
            "ISTANBUL STOCK EXCHANGE                                                                 247   \n",
            "User Knowledge Modeling                                                                 257   \n",
            "EEG Eye State                                                                           264   \n",
            "Banknote Authentication                                                                 267   \n",
            "Gas Sensor Array Drift at Different Concentrations                                      270   \n",
            "Bike Sharing                                                                            275   \n",
            "Thoracic Surgery Data                                                                   277   \n",
            "Airfoil Self-Noise                                                                      291   \n",
            "Wholesale customers                                                                     292   \n",
            "Combined Cycle Power Plant                                                              294   \n",
            "Diabetes 130-US Hospitals for Years 1999-2008                                           296   \n",
            "Tennis Major Tournament Match Statistics                                                300   \n",
            "Dow Jones Index                                                                         312   \n",
            "Student Performance                                                                     320   \n",
            "Phishing Websites                                                                       327   \n",
            "Diabetic Retinopathy Debrecen                                                           329   \n",
            "Online News Popularity                                                                  332   \n",
            "Chronic Kidney Disease                                                                  336   \n",
            "Mice Protein Expression                                                                 342   \n",
            "Default of Credit Card Clients                                                          350   \n",
            "Online Retail                                                                           352   \n",
            "Occupancy Detection                                                                     357   \n",
            "Air Quality                                                                             360   \n",
            "Polish Companies Bankruptcy                                                             365   \n",
            "Dota2 Games Results                                                                     367   \n",
            "Facebook Metrics                                                                        368   \n",
            "HTRU2                                                                                   372   \n",
            "Drug Consumption (Quantified)                                                           373   \n",
            "Appliances Energy Prediction                                                            374   \n",
            "Website Phishing                                                                        379   \n",
            "YouTube Spam Collection                                                                 380   \n",
            "Beijing PM2.5                                                                           381   \n",
            "Cervical Cancer (Risk Factors)                                                          383   \n",
            "Stock Portfolio Performance                                                             390   \n",
            "Sales Transactions Weekly                                                               396   \n",
            "Daily Demand Forecasting Orders                                                         409   \n",
            "Autistic Spectrum Disorder Screening Data for Children                                  419   \n",
            "Autism Screening Adult                                                                  426   \n",
            "Absenteeism at work                                                                     445   \n",
            "Breast Cancer Coimbra                                                                   451   \n",
            "Drug Reviews (Druglib.com)                                                              461   \n",
            "Drug Reviews (Drugs.com)                                                                462   \n",
            "Superconductivty Data                                                                   464   \n",
            "Student Academics Performance                                                           467   \n",
            "Online Shoppers Purchasing Intention Dataset                                            468   \n",
            "Electrical Grid Stability Simulated Data                                                471   \n",
            "Real Estate Valuation                                                                   477   \n",
            "Travel Reviews                                                                          484   \n",
            "Travel Review Ratings                                                                   485   \n",
            "Facebook Live Sellers in Thailand                                                       488   \n",
            "Metro Interstate Traffic Volume                                                         492   \n",
            "Hepatitis C Virus (HCV) for Egyptian patients                                           503   \n",
            "Heart Failure Clinical Records                                                          519   \n",
            "Early Stage Diabetes Risk Prediction                                                    529   \n",
            "Pedestrians in Traffic                                                                  536   \n",
            "Cervical Cancer Behavior Risk                                                           537   \n",
            "Estimation of Obesity Levels Based On Eating Habits and Physical Condition              544   \n",
            "Rice (Cammeo and Osmancik)                                                              545   \n",
            "Algerian Forest Fires                                                                   547   \n",
            "Gas Turbine CO and NOx Emission Data Set                                                551   \n",
            "Apartment for Rent Classified                                                           555   \n",
            "Seoul Bike Sharing Demand                                                               560   \n",
            "Iranian Churn                                                                           563   \n",
            "Bone marrow transplant: children                                                        565   \n",
            "COVID-19 Surveillance                                                                   567   \n",
            "HCV data                                                                                571   \n",
            "Taiwanese Bankruptcy Prediction                                                         572   \n",
            "Myocardial infarction complications                                                     579   \n",
            "Student Performance on an Entrance Examination                                          582   \n",
            "Gender by Name                                                                          591   \n",
            "Productivity Prediction of Garment Employees                                            597   \n",
            "AI4I 2020 Predictive Maintenance Dataset                                                601   \n",
            "Dry Bean                                                                                602   \n",
            "In-Vehicle Coupon Recommendation                                                        603   \n",
            "Predict Students' Dropout and Academic Success                                          697   \n",
            "Auction Verification                                                                    713   \n",
            "NATICUSdroid (Android Permissions)                                                      722   \n",
            "Toxicity                                                                                728   \n",
            "DARWIN                                                                                  732   \n",
            "Accelerometer Gyro Mobile Phone                                                         755   \n",
            "Glioma Grading Clinical and Mutation Features                                           759   \n",
            "Multivariate Gait Data                                                                  760   \n",
            "Land Mines                                                                              763   \n",
            "Single Elder Home Monitoring: Gas and Position                                          799   \n",
            "Sepsis Survival Minimal Clinical Records                                                827   \n",
            "Secondary Mushroom                                                                      848   \n",
            "Power Consumption of Tetouan City                                                       849   \n",
            "Raisin                                                                                  850   \n",
            "Steel Industry Energy Consumption                                                       851   \n",
            "Higher Education Students Performance Evaluation                                        856   \n",
            "Risk Factor Prediction of Chronic Kidney Disease                                        857   \n",
            "Maternal Health Risk                                                                    863   \n",
            "Room Occupancy Estimation                                                               864   \n",
            "Cirrhosis Patient Survival Prediction                                                   878   \n",
            "SUPPORT2                                                                                880   \n",
            "National Health and Nutrition Health Survey 2013-2014 (NHANES) Age Prediction Subset    887   \n",
            "AIDS Clinical Trials Group Study 175                                                    890   \n",
            "CDC Diabetes Health Indicators                                                          891   \n",
            "Recipe Reviews and User Feedback                                                        911   \n",
            "Forty Soybean Cultivars from Subsequent Harvests                                        913   \n",
            "Differentiated Thyroid Cancer Recurrence                                                915   \n",
            "Infrared Thermography Temperature                                                       925   \n",
            "National Poll on Healthy Aging (NPHA)                                                   936   \n",
            "Regensburg Pediatric Appendicitis                                                       938   \n",
            "RT-IoT2022                                                                              942   \n",
            "PhiUSIIL Phishing URL (Website)                                                         967   \n",
            "\n",
            "None\n"
          ]
        }
      ]
    },
    {
      "cell_type": "code",
      "source": [
        "import pandas as pd\n",
        "import io\n",
        "\n",
        "num_features = 856\n",
        "\n",
        "column_names = ['class'] + [f'feature_{i}' for i in range(1, num_features + 1)]\n",
        "\n",
        "df = pd.read_csv(io.BytesIO(uploaded['CNAE-9.data']), header=None, names=column_names)\n",
        "\n",
        "y = df['class']\n",
        "X = df.iloc[:, 1:]\n"
      ],
      "metadata": {
        "colab": {
          "base_uri": "https://localhost:8080/",
          "height": 211
        },
        "id": "9Z9zOZjk_E_E",
        "outputId": "9e364ec0-bedc-47b0-ec42-4406c4f459d5"
      },
      "execution_count": null,
      "outputs": [
        {
          "output_type": "error",
          "ename": "NameError",
          "evalue": "name 'uploaded' is not defined",
          "traceback": [
            "\u001b[0;31m---------------------------------------------------------------------------\u001b[0m",
            "\u001b[0;31mNameError\u001b[0m                                 Traceback (most recent call last)",
            "\u001b[0;32m<ipython-input-5-7b7d13b8be69>\u001b[0m in \u001b[0;36m<cell line: 0>\u001b[0;34m()\u001b[0m\n\u001b[1;32m     12\u001b[0m \u001b[0;34m\u001b[0m\u001b[0m\n\u001b[1;32m     13\u001b[0m \u001b[0;31m# Načítanie súboru .data; ak súbor neobsahuje hlavičku, použijeme header=None\u001b[0m\u001b[0;34m\u001b[0m\u001b[0;34m\u001b[0m\u001b[0m\n\u001b[0;32m---> 14\u001b[0;31m \u001b[0mdf\u001b[0m \u001b[0;34m=\u001b[0m \u001b[0mpd\u001b[0m\u001b[0;34m.\u001b[0m\u001b[0mread_csv\u001b[0m\u001b[0;34m(\u001b[0m\u001b[0mio\u001b[0m\u001b[0;34m.\u001b[0m\u001b[0mBytesIO\u001b[0m\u001b[0;34m(\u001b[0m\u001b[0muploaded\u001b[0m\u001b[0;34m[\u001b[0m\u001b[0;34m'CNAE-9.data'\u001b[0m\u001b[0;34m]\u001b[0m\u001b[0;34m)\u001b[0m\u001b[0;34m,\u001b[0m \u001b[0mheader\u001b[0m\u001b[0;34m=\u001b[0m\u001b[0;32mNone\u001b[0m\u001b[0;34m,\u001b[0m \u001b[0mnames\u001b[0m\u001b[0;34m=\u001b[0m\u001b[0mcolumn_names\u001b[0m\u001b[0;34m)\u001b[0m\u001b[0;34m\u001b[0m\u001b[0;34m\u001b[0m\u001b[0m\n\u001b[0m\u001b[1;32m     15\u001b[0m \u001b[0;34m\u001b[0m\u001b[0m\n\u001b[1;32m     16\u001b[0m \u001b[0;31m# Rozdelenie dát\u001b[0m\u001b[0;34m\u001b[0m\u001b[0;34m\u001b[0m\u001b[0m\n",
            "\u001b[0;31mNameError\u001b[0m: name 'uploaded' is not defined"
          ]
        }
      ]
    },
    {
      "cell_type": "code",
      "source": [
        "import pandas as pd\n",
        "\n",
        "file_path = \"winequality-white.csv\"\n",
        "\n",
        "df = pd.read_csv(file_path, header=None, delim_whitespace=True)\n",
        "df = pd.read_csv(file_path, header=None, sep=\";\")\n",
        "\n",
        "X = df.iloc[1:, :-1]\n",
        "y = df.iloc[1:, -1]\n"
      ],
      "metadata": {
        "colab": {
          "base_uri": "https://localhost:8080/"
        },
        "id": "k-yVz2CbGZgF",
        "outputId": "a71f6cf2-fe22-440a-dbf8-538f8e70e07f"
      },
      "execution_count": null,
      "outputs": [
        {
          "output_type": "stream",
          "name": "stdout",
          "text": [
            "Prvých 5 riadkov atribútov (features):\n",
            "    0     1     2     3      4   5    6       7     8     9     10\n",
            "1    7  0.27  0.36  20.7  0.045  45  170   1.001     3  0.45   8.8\n",
            "2  6.3   0.3  0.34   1.6  0.049  14  132   0.994   3.3  0.49   9.5\n",
            "3  8.1  0.28   0.4   6.9   0.05  30   97  0.9951  3.26  0.44  10.1\n",
            "4  7.2  0.23  0.32   8.5  0.058  47  186  0.9956  3.19   0.4   9.9\n",
            "5  7.2  0.23  0.32   8.5  0.058  47  186  0.9956  3.19   0.4   9.9\n",
            "\n",
            "Prvých 5 hodnot tried (targets):\n",
            "1    6\n",
            "2    6\n",
            "3    6\n",
            "4    6\n",
            "5    6\n",
            "Name: 11, dtype: object\n"
          ]
        },
        {
          "output_type": "stream",
          "name": "stderr",
          "text": [
            "<ipython-input-47-227dd00047dd>:10: FutureWarning: The 'delim_whitespace' keyword in pd.read_csv is deprecated and will be removed in a future version. Use ``sep='\\s+'`` instead\n",
            "  df = pd.read_csv(file_path, header=None, delim_whitespace=True)\n"
          ]
        }
      ]
    },
    {
      "cell_type": "code",
      "source": [
        "from ucimlrepo import fetch_ucirepo\n",
        "import pandas as pd\n",
        "\n",
        "iris = fetch_ucirepo(id=53)\n",
        "\n",
        "X = iris.data.features\n",
        "y = iris.data.targets\n",
        "\n",
        "print(\"metadáta sú: \", iris.metadata)\n",
        "\n",
        "print(\"variables sú: \",iris.variables)\n"
      ],
      "metadata": {
        "colab": {
          "base_uri": "https://localhost:8080/"
        },
        "id": "QhWgOMe6lAXi",
        "outputId": "b34c4963-cba9-40e9-d540-1adeb1bf8d3b"
      },
      "execution_count": null,
      "outputs": [
        {
          "output_type": "stream",
          "name": "stdout",
          "text": [
            "metadáta sú:  {'uci_id': 53, 'name': 'Iris', 'repository_url': 'https://archive.ics.uci.edu/dataset/53/iris', 'data_url': 'https://archive.ics.uci.edu/static/public/53/data.csv', 'abstract': 'A small classic dataset from Fisher, 1936. One of the earliest known datasets used for evaluating classification methods.\\n', 'area': 'Biology', 'tasks': ['Classification'], 'characteristics': ['Tabular'], 'num_instances': 150, 'num_features': 4, 'feature_types': ['Real'], 'demographics': [], 'target_col': ['class'], 'index_col': None, 'has_missing_values': 'no', 'missing_values_symbol': None, 'year_of_dataset_creation': 1936, 'last_updated': 'Tue Sep 12 2023', 'dataset_doi': '10.24432/C56C76', 'creators': ['R. A. Fisher'], 'intro_paper': {'ID': 191, 'type': 'NATIVE', 'title': 'The Iris data set: In search of the source of virginica', 'authors': 'A. Unwin, K. Kleinman', 'venue': 'Significance, 2021', 'year': 2021, 'journal': 'Significance, 2021', 'DOI': '1740-9713.01589', 'URL': 'https://www.semanticscholar.org/paper/4599862ea877863669a6a8e63a3c707a787d5d7e', 'sha': None, 'corpus': None, 'arxiv': None, 'mag': None, 'acl': None, 'pmid': None, 'pmcid': None}, 'additional_info': {'summary': 'This is one of the earliest datasets used in the literature on classification methods and widely used in statistics and machine learning.  The data set contains 3 classes of 50 instances each, where each class refers to a type of iris plant.  One class is linearly separable from the other 2; the latter are not linearly separable from each other.\\n\\nPredicted attribute: class of iris plant.\\n\\nThis is an exceedingly simple domain.\\n\\nThis data differs from the data presented in Fishers article (identified by Steve Chadwick,  spchadwick@espeedaz.net ).  The 35th sample should be: 4.9,3.1,1.5,0.2,\"Iris-setosa\" where the error is in the fourth feature. The 38th sample: 4.9,3.6,1.4,0.1,\"Iris-setosa\" where the errors are in the second and third features.  ', 'purpose': 'N/A', 'funded_by': None, 'instances_represent': 'Each instance is a plant', 'recommended_data_splits': None, 'sensitive_data': None, 'preprocessing_description': None, 'variable_info': None, 'citation': None}}\n",
            "variables sú:             name     role         type demographic  \\\n",
            "0  sepal length  Feature   Continuous        None   \n",
            "1   sepal width  Feature   Continuous        None   \n",
            "2  petal length  Feature   Continuous        None   \n",
            "3   petal width  Feature   Continuous        None   \n",
            "4         class   Target  Categorical        None   \n",
            "\n",
            "                                         description units missing_values  \n",
            "0                                               None    cm             no  \n",
            "1                                               None    cm             no  \n",
            "2                                               None    cm             no  \n",
            "3                                               None    cm             no  \n",
            "4  class of iris plant: Iris Setosa, Iris Versico...  None             no  \n"
          ]
        }
      ]
    },
    {
      "cell_type": "code",
      "source": [
        "from sklearn.model_selection import cross_val_score, cross_val_predict\n",
        "from sklearn.tree import DecisionTreeClassifier\n",
        "from sklearn.naive_bayes import GaussianNB\n",
        "from sklearn.neighbors import KNeighborsClassifier\n",
        "from sklearn.neural_network import MLPClassifier\n",
        "from sklearn.preprocessing import StandardScaler\n",
        "from sklearn.metrics import make_scorer, f1_score\n",
        "from sklearn.metrics import accuracy_score, make_scorer, f1_score, confusion_matrix, classification_report\n",
        "import numpy as np\n",
        "import pandas as pd\n",
        "from sklearn.preprocessing import LabelEncoder\n",
        "\n",
        "scaler = StandardScaler()\n",
        "X_scaled = scaler.fit_transform(X)\n",
        "\n",
        "label_encoder = LabelEncoder()\n",
        "y_encoded = label_encoder.fit_transform(y.values.ravel())\n",
        "\n",
        "models = {\n",
        "    \"Decision Tree\": DecisionTreeClassifier(random_state=42),\n",
        "    \"Naive Bayes\": GaussianNB(),\n",
        "    \"KNN\": KNeighborsClassifier(n_neighbors=10, metric='euclidean'),\n",
        "    \"Neural Network\": MLPClassifier(hidden_layer_sizes=(64, 32, 16), max_iter=1000,random_state=42)\n",
        "}\n",
        "\n",
        "f1 = make_scorer(f1_score, average='weighted')\n",
        "\n",
        "probability_matrices = {}\n",
        "\n",
        "numMAtInc=1\n",
        "\n",
        "accuracy_vectors = {}\n",
        "\n",
        "for name, model in models.items():\n",
        "    if name == \"Neural Network\":\n",
        "        scores = cross_val_score(model, X_scaled, y_encoded, cv=10, scoring=f1)\n",
        "        y_pred = cross_val_predict(model, X_scaled, y_encoded, cv=10)\n",
        "        y_proba = cross_val_predict(model, X_scaled, y_encoded, cv=10, method='predict_proba')\n",
        "    else:\n",
        "        scores = cross_val_score(model, X_scaled, y_encoded, cv=10, scoring=f1)\n",
        "        y_pred = cross_val_predict(model, X_scaled, y_encoded, cv=10)\n",
        "        y_proba = cross_val_predict(model, X_scaled, y_encoded, cv=10, method='predict_proba')\n",
        "\n",
        "    print(f\"{name} - Priemerná F1 miera: {scores.mean():.4f}, Štandardná odchýlka: {scores.std():.4f}\")\n",
        "    acc = accuracy_score(y_encoded, y_pred)\n",
        "    accuracy_vectors[name] = acc\n",
        "    print(f\"{name} - Accuracy: {acc:.4f}\")\n",
        "    print(f\"{name} - Matica klasifikácie:\")\n",
        "    print(confusion_matrix(y_encoded, y_pred))\n",
        "    print(classification_report(y_encoded, y_pred))\n",
        "\n",
        "    proba_df = pd.DataFrame(y_proba, columns=label_encoder.inverse_transform(np.arange(y_proba.shape[1])))\n",
        "    proba_df.index = [f\"ID {i+1}\" for i in range(len(proba_df))]\n",
        "\n",
        "    proba_df = proba_df.round(5)\n",
        "\n",
        "    print(proba_df)\n",
        "\n",
        "    proba_df.to_excel(f\"{name}_probabilities.xlsx\", index=True)\n",
        "    print(f\"Tabuľka s pravdepodobnosťami pre model {name} bola exportovaná do Excel súboru {name}_probabilities.xlsx\")\n",
        "    print(\"\\n\")\n",
        "\n",
        "    probability_matrices[f\"P_{numMAtInc}\"] = proba_df.values\n",
        "\n",
        "    numMAtInc=numMAtInc+1\n",
        "\n",
        "print(accuracy_vectors)\n"
      ],
      "metadata": {
        "colab": {
          "base_uri": "https://localhost:8080/"
        },
        "collapsed": true,
        "id": "dfx7EeannP1f",
        "outputId": "3aab5e09-0313-4899-bf99-3cf81ae15754"
      },
      "execution_count": null,
      "outputs": [
        {
          "output_type": "stream",
          "name": "stdout",
          "text": [
            "Decision Tree - Priemerná F1 miera: 0.9530, Štandardná odchýlka: 0.0428\n",
            "Decision Tree - Accuracy: 0.9533\n",
            "Decision Tree - Matica klasifikácie:\n",
            "[[50  0  0]\n",
            " [ 0 47  3]\n",
            " [ 0  4 46]]\n",
            "              precision    recall  f1-score   support\n",
            "\n",
            "           0       1.00      1.00      1.00        50\n",
            "           1       0.92      0.94      0.93        50\n",
            "           2       0.94      0.92      0.93        50\n",
            "\n",
            "    accuracy                           0.95       150\n",
            "   macro avg       0.95      0.95      0.95       150\n",
            "weighted avg       0.95      0.95      0.95       150\n",
            "\n",
            "        Iris-setosa  Iris-versicolor  Iris-virginica\n",
            "ID 1            1.0              0.0             0.0\n",
            "ID 2            1.0              0.0             0.0\n",
            "ID 3            1.0              0.0             0.0\n",
            "ID 4            1.0              0.0             0.0\n",
            "ID 5            1.0              0.0             0.0\n",
            "...             ...              ...             ...\n",
            "ID 146          0.0              0.0             1.0\n",
            "ID 147          0.0              0.0             1.0\n",
            "ID 148          0.0              0.0             1.0\n",
            "ID 149          0.0              0.0             1.0\n",
            "ID 150          0.0              0.0             1.0\n",
            "\n",
            "[150 rows x 3 columns]\n",
            "Tabuľka s pravdepodobnosťami pre model Decision Tree bola exportovaná do Excel súboru Decision Tree_probabilities.xlsx\n",
            "\n",
            "\n",
            "Naive Bayes - Priemerná F1 miera: 0.9524, Štandardná odchýlka: 0.0440\n",
            "Naive Bayes - Accuracy: 0.9533\n",
            "Naive Bayes - Matica klasifikácie:\n",
            "[[50  0  0]\n",
            " [ 0 47  3]\n",
            " [ 0  4 46]]\n",
            "              precision    recall  f1-score   support\n",
            "\n",
            "           0       1.00      1.00      1.00        50\n",
            "           1       0.92      0.94      0.93        50\n",
            "           2       0.94      0.92      0.93        50\n",
            "\n",
            "    accuracy                           0.95       150\n",
            "   macro avg       0.95      0.95      0.95       150\n",
            "weighted avg       0.95      0.95      0.95       150\n",
            "\n",
            "        Iris-setosa  Iris-versicolor  Iris-virginica\n",
            "ID 1            1.0          0.00000         0.00000\n",
            "ID 2            1.0          0.00000         0.00000\n",
            "ID 3            1.0          0.00000         0.00000\n",
            "ID 4            1.0          0.00000         0.00000\n",
            "ID 5            1.0          0.00000         0.00000\n",
            "...             ...              ...             ...\n",
            "ID 146          0.0          0.00000         1.00000\n",
            "ID 147          0.0          0.04532         0.95468\n",
            "ID 148          0.0          0.00076         0.99924\n",
            "ID 149          0.0          0.00000         1.00000\n",
            "ID 150          0.0          0.08124         0.91876\n",
            "\n",
            "[150 rows x 3 columns]\n",
            "Tabuľka s pravdepodobnosťami pre model Naive Bayes bola exportovaná do Excel súboru Naive Bayes_probabilities.xlsx\n",
            "\n",
            "\n",
            "KNN - Priemerná F1 miera: 0.9596, Štandardná odchýlka: 0.0330\n",
            "KNN - Accuracy: 0.9600\n",
            "KNN - Matica klasifikácie:\n",
            "[[50  0  0]\n",
            " [ 0 49  1]\n",
            " [ 0  5 45]]\n",
            "              precision    recall  f1-score   support\n",
            "\n",
            "           0       1.00      1.00      1.00        50\n",
            "           1       0.91      0.98      0.94        50\n",
            "           2       0.98      0.90      0.94        50\n",
            "\n",
            "    accuracy                           0.96       150\n",
            "   macro avg       0.96      0.96      0.96       150\n",
            "weighted avg       0.96      0.96      0.96       150\n",
            "\n",
            "        Iris-setosa  Iris-versicolor  Iris-virginica\n",
            "ID 1            1.0              0.0             0.0\n",
            "ID 2            1.0              0.0             0.0\n",
            "ID 3            1.0              0.0             0.0\n",
            "ID 4            1.0              0.0             0.0\n",
            "ID 5            1.0              0.0             0.0\n",
            "...             ...              ...             ...\n",
            "ID 146          0.0              0.0             1.0\n",
            "ID 147          0.0              0.2             0.8\n",
            "ID 148          0.0              0.1             0.9\n",
            "ID 149          0.0              0.1             0.9\n",
            "ID 150          0.0              0.5             0.5\n",
            "\n",
            "[150 rows x 3 columns]\n",
            "Tabuľka s pravdepodobnosťami pre model KNN bola exportovaná do Excel súboru KNN_probabilities.xlsx\n",
            "\n",
            "\n",
            "Neural Network - Priemerná F1 miera: 0.9530, Štandardná odchýlka: 0.0428\n",
            "Neural Network - Accuracy: 0.9533\n",
            "Neural Network - Matica klasifikácie:\n",
            "[[49  1  0]\n",
            " [ 0 47  3]\n",
            " [ 0  3 47]]\n",
            "              precision    recall  f1-score   support\n",
            "\n",
            "           0       1.00      0.98      0.99        50\n",
            "           1       0.92      0.94      0.93        50\n",
            "           2       0.94      0.94      0.94        50\n",
            "\n",
            "    accuracy                           0.95       150\n",
            "   macro avg       0.95      0.95      0.95       150\n",
            "weighted avg       0.95      0.95      0.95       150\n",
            "\n",
            "        Iris-setosa  Iris-versicolor  Iris-virginica\n",
            "ID 1        0.99993          0.00006         0.00001\n",
            "ID 2        0.99983          0.00015         0.00001\n",
            "ID 3        0.99995          0.00004         0.00001\n",
            "ID 4        0.99994          0.00005         0.00001\n",
            "ID 5        0.99996          0.00003         0.00001\n",
            "...             ...              ...             ...\n",
            "ID 146      0.00006          0.00015         0.99979\n",
            "ID 147      0.00030          0.00801         0.99168\n",
            "ID 148      0.00042          0.00291         0.99667\n",
            "ID 149      0.00034          0.00293         0.99674\n",
            "ID 150      0.00232          0.03626         0.96142\n",
            "\n",
            "[150 rows x 3 columns]\n",
            "Tabuľka s pravdepodobnosťami pre model Neural Network bola exportovaná do Excel súboru Neural Network_probabilities.xlsx\n",
            "\n",
            "\n",
            "{'Decision Tree': 0.9533333333333334, 'Naive Bayes': 0.9533333333333334, 'KNN': 0.96, 'Neural Network': 0.9533333333333334}\n"
          ]
        }
      ]
    },
    {
      "cell_type": "code",
      "source": [
        "print(\"Matica P_1:\")\n",
        "print(probability_matrices[\"P_4\"])"
      ],
      "metadata": {
        "id": "OU0_aKUsMn4c"
      },
      "execution_count": null,
      "outputs": []
    },
    {
      "cell_type": "code",
      "source": [
        "matrix_M = np.array([[[probability_matrices[f'P_{k+1}'][i, j] for k in range(len(probability_matrices))] for j in range(probability_matrices[f'P_{1}'].shape[1])] for i in range(probability_matrices[f'P_{1}'].shape[0])])\n",
        "\n",
        "print(\"Nová matica:\")\n",
        "print(matrix_M)\n"
      ],
      "metadata": {
        "colab": {
          "base_uri": "https://localhost:8080/",
          "height": 211
        },
        "id": "kh-mOMcsYElS",
        "outputId": "598a5b47-adb0-4204-c575-e657b7b7d08c"
      },
      "execution_count": null,
      "outputs": [
        {
          "output_type": "error",
          "ename": "NameError",
          "evalue": "name 'np' is not defined",
          "traceback": [
            "\u001b[0;31m---------------------------------------------------------------------------\u001b[0m",
            "\u001b[0;31mNameError\u001b[0m                                 Traceback (most recent call last)",
            "\u001b[0;32m<ipython-input-4-f9487a2bd268>\u001b[0m in \u001b[0;36m<cell line: 0>\u001b[0;34m()\u001b[0m\n\u001b[1;32m      1\u001b[0m \u001b[0;31m# Vytvorenie novej matice, kde každý prvok je vektorom prvkov z n matíc\u001b[0m\u001b[0;34m\u001b[0m\u001b[0;34m\u001b[0m\u001b[0m\n\u001b[0;32m----> 2\u001b[0;31m \u001b[0mmatrix_M\u001b[0m \u001b[0;34m=\u001b[0m \u001b[0mnp\u001b[0m\u001b[0;34m.\u001b[0m\u001b[0marray\u001b[0m\u001b[0;34m(\u001b[0m\u001b[0;34m[\u001b[0m\u001b[0;34m[\u001b[0m\u001b[0;34m[\u001b[0m\u001b[0mprobability_matrices\u001b[0m\u001b[0;34m[\u001b[0m\u001b[0;34mf'P_{k+1}'\u001b[0m\u001b[0;34m]\u001b[0m\u001b[0;34m[\u001b[0m\u001b[0mi\u001b[0m\u001b[0;34m,\u001b[0m \u001b[0mj\u001b[0m\u001b[0;34m]\u001b[0m \u001b[0;32mfor\u001b[0m \u001b[0mk\u001b[0m \u001b[0;32min\u001b[0m \u001b[0mrange\u001b[0m\u001b[0;34m(\u001b[0m\u001b[0mlen\u001b[0m\u001b[0;34m(\u001b[0m\u001b[0mprobability_matrices\u001b[0m\u001b[0;34m)\u001b[0m\u001b[0;34m)\u001b[0m\u001b[0;34m]\u001b[0m \u001b[0;32mfor\u001b[0m \u001b[0mj\u001b[0m \u001b[0;32min\u001b[0m \u001b[0mrange\u001b[0m\u001b[0;34m(\u001b[0m\u001b[0mprobability_matrices\u001b[0m\u001b[0;34m[\u001b[0m\u001b[0;34mf'P_{1}'\u001b[0m\u001b[0;34m]\u001b[0m\u001b[0;34m.\u001b[0m\u001b[0mshape\u001b[0m\u001b[0;34m[\u001b[0m\u001b[0;36m1\u001b[0m\u001b[0;34m]\u001b[0m\u001b[0;34m)\u001b[0m\u001b[0;34m]\u001b[0m \u001b[0;32mfor\u001b[0m \u001b[0mi\u001b[0m \u001b[0;32min\u001b[0m \u001b[0mrange\u001b[0m\u001b[0;34m(\u001b[0m\u001b[0mprobability_matrices\u001b[0m\u001b[0;34m[\u001b[0m\u001b[0;34mf'P_{1}'\u001b[0m\u001b[0;34m]\u001b[0m\u001b[0;34m.\u001b[0m\u001b[0mshape\u001b[0m\u001b[0;34m[\u001b[0m\u001b[0;36m0\u001b[0m\u001b[0;34m]\u001b[0m\u001b[0;34m)\u001b[0m\u001b[0;34m]\u001b[0m\u001b[0;34m)\u001b[0m\u001b[0;34m\u001b[0m\u001b[0;34m\u001b[0m\u001b[0m\n\u001b[0m\u001b[1;32m      3\u001b[0m \u001b[0;34m\u001b[0m\u001b[0m\n\u001b[1;32m      4\u001b[0m \u001b[0mprint\u001b[0m\u001b[0;34m(\u001b[0m\u001b[0;34m\"Nová matica:\"\u001b[0m\u001b[0;34m)\u001b[0m\u001b[0;34m\u001b[0m\u001b[0;34m\u001b[0m\u001b[0m\n\u001b[1;32m      5\u001b[0m \u001b[0mprint\u001b[0m\u001b[0;34m(\u001b[0m\u001b[0mmatrix_M\u001b[0m\u001b[0;34m)\u001b[0m\u001b[0;34m\u001b[0m\u001b[0;34m\u001b[0m\u001b[0m\n",
            "\u001b[0;31mNameError\u001b[0m: name 'np' is not defined"
          ]
        }
      ]
    },
    {
      "cell_type": "code",
      "source": [
        "import numpy as np\n",
        "from scipy.optimize import fsolve\n",
        "\n",
        "def sugeno_lambda(singleton_measures, initial_guess=-0.9):\n",
        "\n",
        "    def equation(lmbd):\n",
        "        product = np.prod([1 + lmbd * m for m in singleton_measures])\n",
        "        return product - (1 + lmbd)\n",
        "\n",
        "    lmbd_solution = fsolve(equation, initial_guess)[0]\n",
        "    return lmbd_solution\n"
      ],
      "metadata": {
        "colab": {
          "base_uri": "https://localhost:8080/"
        },
        "id": "zrDH4hbvYcX2",
        "outputId": "96651cd4-3f55-4633-ea4b-2fa1108404cd"
      },
      "execution_count": null,
      "outputs": [
        {
          "output_type": "stream",
          "name": "stdout",
          "text": [
            "Vyriešené λ = -0.9999969991506711\n"
          ]
        }
      ]
    },
    {
      "cell_type": "code",
      "source": [
        "import numpy as np\n",
        "\n",
        "def sugeno_measure(subset, singleton_measures):\n",
        "\n",
        "    lmbd=sugeno_lambda(singleton_measures,-0.9)\n",
        "    if np.isclose(lmbd, 0):\n",
        "        return sum(singleton_measures[i] for i in subset)\n",
        "    else:\n",
        "        prod_val = np.prod([1 + lmbd * singleton_measures[i] for i in subset])\n",
        "        return (prod_val - 1) / lmbd\n"
      ],
      "metadata": {
        "colab": {
          "base_uri": "https://localhost:8080/"
        },
        "id": "GIRtdUg3g95E",
        "outputId": "7b9a9b10-b7ed-49cd-9213-a39d91c76728"
      },
      "execution_count": null,
      "outputs": [
        {
          "output_type": "stream",
          "name": "stdout",
          "text": [
            "Vyriešené λ = -0.9999969991506711\n",
            "Hodnota fuzzy miery pre podmnožinu [0, 3] je: 0.9975\n"
          ]
        }
      ]
    },
    {
      "cell_type": "code",
      "source": [
        "def choquet_integral(f, singleton_measures):\n",
        "\n",
        "    f = np.array(f)\n",
        "    n = len(f)\n",
        "\n",
        "    sorted_indices = np.argsort(f)\n",
        "    f_sorted = f[sorted_indices]\n",
        "\n",
        "    integral = 0.0\n",
        "    f_prev = 0.0\n",
        "    for i in range(n):\n",
        "        diff = f_sorted[i] - f_prev\n",
        "        subset = sorted_indices[i:].tolist()\n",
        "        m_A = sugeno_measure(subset, singleton_measures)\n",
        "        integral += diff * m_A\n",
        "        f_prev = f_sorted[i]\n",
        "    return integral\n"
      ],
      "metadata": {
        "colab": {
          "base_uri": "https://localhost:8080/"
        },
        "id": "phOaQJ7zhyru",
        "outputId": "410fed29-1b73-47ef-a329-2452f3aa061f"
      },
      "execution_count": null,
      "outputs": [
        {
          "output_type": "stream",
          "name": "stdout",
          "text": [
            "Hodnota Choquet integrálu = 0.893686150017065\n"
          ]
        }
      ]
    },
    {
      "cell_type": "code",
      "source": [
        "def delta_abs(x, y):\n",
        "        return abs(x - y)\n",
        "\n",
        "def delta_square(x, y):\n",
        "        return (x - y)**2\n",
        "\n",
        "def delta_sqrt(x, y):\n",
        "        return abs(x**(1/2) - y**(1/2))\n",
        "\n",
        "def delta_sqrt_square(x, y):\n",
        "        return (x**(1/2) - y**(1/2))**2\n",
        "\n",
        "def delta_sqrt_abs(x, y):\n",
        "        return (abs(x - y))**(1/2)\n",
        "\n",
        "def delta_sqrt_sqrt(x, y):\n",
        "        return (x**(1/2) - y**(1/2))**(1/2)\n",
        "\n",
        "def delta_sqrt4(x, y):\n",
        "        return abs(x**(1/4) - y**(1/4))"
      ],
      "metadata": {
        "id": "exKVrdIfRJTf"
      },
      "execution_count": null,
      "outputs": []
    },
    {
      "cell_type": "code",
      "source": [
        "import numpy as np\n",
        "\n",
        "def d_choquet_integral(f, singleton_measures, delta_function):\n",
        "\n",
        "    f = np.array(f)\n",
        "    n = len(f)\n",
        "\n",
        "    sorted_indices = np.argsort(f)\n",
        "    f_sorted = f[sorted_indices]\n",
        "\n",
        "    total_integral = 0.0\n",
        "    previous_value = 0.0\n",
        "    for i in range(n):\n",
        "        delta_val = delta_function(f_sorted[i], previous_value)\n",
        "        subset = sorted_indices[i:].tolist()\n",
        "        m_value = sugeno_measure(subset, singleton_measures)\n",
        "        total_integral += delta_val * m_value\n",
        "\n",
        "        previous_value = f_sorted[i]\n",
        "\n",
        "    return total_integral\n"
      ],
      "metadata": {
        "colab": {
          "base_uri": "https://localhost:8080/"
        },
        "id": "SvgVg1yLsOM3",
        "outputId": "b08a7436-02a2-4def-e28c-b7b3a1f18907"
      },
      "execution_count": null,
      "outputs": [
        {
          "output_type": "stream",
          "name": "stdout",
          "text": [
            "d-Choquet integrál (s využitím absolútneho rozdielu ako δ) = 0.893686150017065\n"
          ]
        }
      ]
    },
    {
      "cell_type": "code",
      "source": [
        "def DR_function(array):\n",
        "    return sorted(set(array))\n"
      ],
      "metadata": {
        "colab": {
          "base_uri": "https://localhost:8080/"
        },
        "id": "N2UOtjni7s7P",
        "outputId": "518bb401-7a99-4478-8d1b-574720e3f06c"
      },
      "execution_count": null,
      "outputs": [
        {
          "output_type": "stream",
          "name": "stdout",
          "text": [
            "[1, 2, 5, 7]\n"
          ]
        }
      ]
    },
    {
      "cell_type": "code",
      "source": [
        "def pseudo_overlap_Z(x, y):\n",
        "\n",
        "    diff = np.maximum(x - y, 0)\n",
        "    return np.sqrt(diff * x) if diff > 0 else 0\n",
        "\n",
        "def pseudo_overlap_alpha(x, y):\n",
        "    return x*y\n",
        "\n",
        "def pseudo_overlap_pi(x, y):\n",
        "    return x*(y**2)\n",
        "\n",
        "def pseudo_overlap_phi(x, y):\n",
        "    return (x**2)*y\n",
        "\n",
        "def pseudo_overlap_psi(x, y):\n",
        "    return np.min((x**2,y**2))\n",
        "\n",
        "def pseudo_overlap_nu(x, y):\n",
        "    return np.min((x**3,y**3))\n",
        "\n",
        "def pseudo_overlap_epsilon(x, y):\n",
        "    return 0.1*x*(y**2)+0.9*np.max((0,x+y-1))\n",
        "\n",
        "def pseudo_overlap_delta(x, y):\n",
        "    return np.max((np.min((x,y/2)),x+y-1))\n",
        "\n",
        "def pseudo_overlap_gamma(x, y):\n",
        "    denom = 0.5 * x + 1.5 * y\n",
        "    if denom != 0:\n",
        "        return (2 * x * y) / denom\n",
        "    else:\n",
        "        return 0\n",
        "\n",
        "def pseudo_overlap_kappa(x, y):\n",
        "    denom = x + (2* y)\n",
        "    if denom != 0:\n",
        "        return (3 * x * y) / denom\n",
        "    else:\n",
        "        return 0\n",
        "\n",
        "def pseudo_overlap_mu(x, y):\n",
        "    return ((x**2)*y)+((x**2)*y*(1-x)*(1-y))\n",
        "\n",
        "def pseudo_overlap_my1(x, y):\n",
        "    return np.max((x*(y**2),(x**2)*y))\n",
        "\n",
        "def pseudo_overlap_my2(x, y):\n",
        "    return np.min((x*(y**2),(x**2)*y))\n",
        "\n",
        "def pseudo_overlap_beta(x, y):\n",
        "    denom = x + y\n",
        "    if denom != 0:\n",
        "        return (2 * x * y) / denom\n",
        "    else:\n",
        "        return 0\n",
        "\n",
        "def pseudo_overlap_my_min(x, y):\n",
        "    return np.min((x,y))\n",
        "\n",
        "def pseudo_overlap_my_third(x, y):\n",
        "    return (x**3)*(y)"
      ],
      "metadata": {
        "id": "QnLhXNO2_Is_"
      },
      "execution_count": null,
      "outputs": []
    },
    {
      "cell_type": "code",
      "source": [
        "def find_subset(f,y):\n",
        "  return [i for i, value in enumerate(f) if value >= y]\n",
        "\n",
        "\n",
        "def pop_choquet_integral(f, singleton_measures, pop_function_1,pop_function_2):\n",
        "  y=DR_function(f)\n",
        "  n = len(y)\n",
        "  integral = 0.0\n",
        "  previous_value = 0.0\n",
        "\n",
        "  for i in range(n):\n",
        "    val=pop_function_1(y[i],sugeno_measure(find_subset(f,y[i]),singleton_measures))-pop_function_2(previous_value,sugeno_measure(find_subset(f,y[i]),singleton_measures))\n",
        "    previous_value=y[i]\n",
        "    integral+=val\n",
        "\n",
        "  return integral"
      ],
      "metadata": {
        "id": "Jhb1q1O9AXAb"
      },
      "execution_count": null,
      "outputs": []
    },
    {
      "cell_type": "code",
      "source": [
        "acc_values=list(accuracy_vectors.values())\n",
        "print(acc_values)\n",
        "print(matrix_M[0,0])\n",
        "\n",
        "\n",
        "N = np.zeros((matrix_M.shape[0], matrix_M.shape[1]))\n",
        "\n",
        "for i in range(matrix_M.shape[0]):\n",
        "    for j in range(matrix_M.shape[1]):\n",
        "        prvok=pop_choquet_integral(matrix_M[i,j],acc_values,pseudo_overlap_gamma,pseudo_overlap_delta)\n",
        "        N[i,j]=prvok\n",
        "\n",
        "print(N)"
      ],
      "metadata": {
        "colab": {
          "base_uri": "https://localhost:8080/"
        },
        "id": "h0lRX_2934Db",
        "outputId": "e1744d42-d413-4b2c-803f-cac273226a6d"
      },
      "execution_count": null,
      "outputs": [
        {
          "output_type": "stream",
          "name": "stdout",
          "text": [
            "[0.4069007758268681, 0.43446304614128217, 0.500204164965292, 0.4679461004491629]\n",
            "[0.e+00 7.e-05 0.e+00 0.e+00]\n",
            "[[9.33283210e-05 7.66635592e-05 6.90405948e-01 ... 4.23327257e-01\n",
            "  1.86646619e-04 0.00000000e+00]\n",
            " [1.01716568e-02 2.05516064e-01 1.04846158e+00 ... 2.74941034e-01\n",
            "  3.19197909e-02 0.00000000e+00]\n",
            " [4.83209672e-04 2.95626620e-02 1.23590137e+00 ... 1.47235434e-01\n",
            "  1.99444954e-02 1.19992944e-04]\n",
            " ...\n",
            " [9.33286728e-05 1.77668126e-02 7.58380694e-01 ... 3.02841259e-01\n",
            "  1.19177073e-02 0.00000000e+00]\n",
            " [4.33323516e-05 1.69984628e-04 3.44702186e-03 ... 1.68753849e+00\n",
            "  2.74916098e-01 2.05858257e-01]\n",
            " [1.66652975e-04 1.16255975e-03 1.30099321e-01 ... 1.03772910e+00\n",
            "  2.77875224e-01 3.30011885e-02]]\n"
          ]
        }
      ]
    },
    {
      "cell_type": "code",
      "source": [
        "import numpy as np\n",
        "from sklearn.metrics import accuracy_score, f1_score, confusion_matrix, classification_report\n",
        "\n",
        "predicted_indices = np.argmax(N, axis=1)\n",
        "print(\"Predpovedané triedy (indexy stĺpcov):\")\n",
        "print(predicted_indices)\n",
        "\n",
        "accuracy = accuracy_score(y_encoded, predicted_indices)\n",
        "f1 = f1_score(y_encoded, predicted_indices, average='weighted')\n",
        "conf_matrix = confusion_matrix(y_encoded, predicted_indices)\n",
        "report = classification_report(y_encoded, predicted_indices)\n",
        "\n",
        "print(\"\\nAgregovaná ensemble klasifikácia - metriky:\")\n",
        "print(f\"Accuracy: {accuracy:.4f}\")\n",
        "print(f\"F1 score (weighted): {f1:.4f}\")\n",
        "print(\"Confusion Matrix:\")\n",
        "print(conf_matrix)\n",
        "print(\"Classification Report:\")\n",
        "print(report)\n"
      ],
      "metadata": {
        "colab": {
          "base_uri": "https://localhost:8080/"
        },
        "id": "TkZNFqLbl18H",
        "outputId": "6c30c7d0-0ae9-40ca-b174-968f660bfbf1"
      },
      "execution_count": null,
      "outputs": [
        {
          "output_type": "stream",
          "name": "stdout",
          "text": [
            "Predpovedané triedy (indexy stĺpcov):\n",
            "[3 2 2 ... 3 4 3]\n",
            "\n",
            "Agregovaná ensemble klasifikácia - metriky:\n",
            "Accuracy: 0.4935\n",
            "F1 score (weighted): 0.4850\n",
            "Confusion Matrix:\n",
            "[[   2    3    8    6    1    0    0]\n",
            " [   2   26   91   41    3    0    0]\n",
            " [   3   40  814  520   76    4    0]\n",
            " [   1    8  580 1183  404   22    0]\n",
            " [   0    0   49  423  386   22    0]\n",
            " [   2    0    5   73   89    6    0]\n",
            " [   0    0    0    1    2    2    0]]\n",
            "Classification Report:\n",
            "              precision    recall  f1-score   support\n",
            "\n",
            "           0       0.20      0.10      0.13        20\n",
            "           1       0.34      0.16      0.22       163\n",
            "           2       0.53      0.56      0.54      1457\n",
            "           3       0.53      0.54      0.53      2198\n",
            "           4       0.40      0.44      0.42       880\n",
            "           5       0.11      0.03      0.05       175\n",
            "           6       0.00      0.00      0.00         5\n",
            "\n",
            "    accuracy                           0.49      4898\n",
            "   macro avg       0.30      0.26      0.27      4898\n",
            "weighted avg       0.48      0.49      0.49      4898\n",
            "\n"
          ]
        },
        {
          "output_type": "stream",
          "name": "stderr",
          "text": [
            "/usr/local/lib/python3.11/dist-packages/sklearn/metrics/_classification.py:1565: UndefinedMetricWarning: Precision is ill-defined and being set to 0.0 in labels with no predicted samples. Use `zero_division` parameter to control this behavior.\n",
            "  _warn_prf(average, modifier, f\"{metric.capitalize()} is\", len(result))\n",
            "/usr/local/lib/python3.11/dist-packages/sklearn/metrics/_classification.py:1565: UndefinedMetricWarning: Precision is ill-defined and being set to 0.0 in labels with no predicted samples. Use `zero_division` parameter to control this behavior.\n",
            "  _warn_prf(average, modifier, f\"{metric.capitalize()} is\", len(result))\n",
            "/usr/local/lib/python3.11/dist-packages/sklearn/metrics/_classification.py:1565: UndefinedMetricWarning: Precision is ill-defined and being set to 0.0 in labels with no predicted samples. Use `zero_division` parameter to control this behavior.\n",
            "  _warn_prf(average, modifier, f\"{metric.capitalize()} is\", len(result))\n"
          ]
        }
      ]
    }
  ]
}